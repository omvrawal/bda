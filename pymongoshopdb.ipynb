{
 "cells": [
  {
   "cell_type": "code",
   "execution_count": 5,
   "id": "fdbcc840-a6ec-48b7-8399-991e01833fb9",
   "metadata": {},
   "outputs": [
    {
     "name": "stdout",
     "output_type": "stream",
     "text": [
      "Requirement already satisfied: pymongo in c:\\users\\om\\anaconda3\\lib\\site-packages (4.11.3)\n",
      "Requirement already satisfied: dnspython<3.0.0,>=1.16.0 in c:\\users\\om\\anaconda3\\lib\\site-packages (from pymongo) (2.7.0)\n",
      "Note: you may need to restart the kernel to use updated packages.\n"
     ]
    }
   ],
   "source": [
    "pip install pymongo\n"
   ]
  },
  {
   "cell_type": "code",
   "execution_count": 7,
   "id": "02cebb05-666f-4d44-bf01-921b34332b95",
   "metadata": {},
   "outputs": [
    {
     "name": "stdout",
     "output_type": "stream",
     "text": [
      "Database and shop data created successfully!\n",
      "Shops in New York:\n",
      "{'_id': ObjectId('67eecbe0394ffb0a2abd98f3'), 'name': 'ABC Supermarket', 'location': 'New York', 'category': 'Grocery'}\n",
      "{'_id': ObjectId('67eecbe0394ffb0a2abd98f6'), 'name': 'Gadget Zone', 'location': 'New York', 'category': 'Electronics'}\n",
      "{'_id': ObjectId('67eecbe0394ffb0a2abd98f7'), 'name': 'Food Mart', 'location': 'New York', 'category': 'Grocery'}\n",
      "Shops in category Electronics:\n",
      "{'_id': ObjectId('67eecbe0394ffb0a2abd98f4'), 'name': 'Tech World', 'location': 'San Francisco', 'category': 'Electronics'}\n",
      "{'_id': ObjectId('67eecbe0394ffb0a2abd98f6'), 'name': 'Gadget Zone', 'location': 'New York', 'category': 'Electronics'}\n",
      "Most common shop location: New York (Count:3)\n"
     ]
    }
   ],
   "source": [
    "from pymongo import MongoClient\n",
    "from collections import Counter\n",
    "# Connect to MongoDB server (default: localhost:27017)\n",
    "client = MongoClient(\"mongodb://localhost:27017/\")\n",
    "# Create or access the database\n",
    "db = client[\"ShopDatabase\"]\n",
    "# Create or access the collection\n",
    "shop_collection = db[\"Shops\"]\n",
    "# Sample data\n",
    "shops = [\n",
    " {\"name\": \"ABC Supermarket\", \"location\": \"New York\", \"category\": \"Grocery\"},\n",
    " {\"name\": \"Tech World\", \"location\": \"San Francisco\", \"category\": \"Electronics\"},\n",
    " {\"name\": \"Fashion Hub\", \"location\": \"Los Angeles\", \"category\": \"Clothing\"},\n",
    " {\"name\": \"Gadget Zone\", \"location\": \"New York\", \"category\": \"Electronics\"},\n",
    " {\"name\": \"Food Mart\", \"location\": \"New York\", \"category\": \"Grocery\"}\n",
    "]\n",
    "# Insert data into the collection\n",
    "shop_collection.insert_many(shops)\n",
    "print(\"Database and shop data created successfully!\")\n",
    "# Display shops by location\n",
    "location = \"New York\"\n",
    "results = shop_collection.find({\"location\": location})\n",
    "print(f\"Shops in {location}:\")\n",
    "for shop in results:\n",
    "    print(shop)\n",
    "\n",
    "# Display shops by category\n",
    "category = \"Electronics\"\n",
    "results = shop_collection.find({\"category\": category})\n",
    "print(f\"Shops in category {category}:\")\n",
    "for shop in results:\n",
    "    print(shop)\n",
    "# Find the most common shop location\n",
    "locations = [shop[\"location\"] for shop in shop_collection.find({}, {\"location\": 1, \"_id\":0})]\n",
    "location_counts = Counter(locations)\n",
    "most_common = location_counts.most_common(1)\n",
    "if most_common:\n",
    "    print(f\"Most common shop location: {most_common[0][0]} (Count:{most_common[0][1]})\")\n",
    "else:\n",
    "    print(\"No locations found.\")"
   ]
  },
  {
   "cell_type": "code",
   "execution_count": null,
   "id": "e44e4e55-cd00-4bf4-b926-f484053dcf84",
   "metadata": {},
   "outputs": [],
   "source": []
  }
 ],
 "metadata": {
  "kernelspec": {
   "display_name": "Python 3 (ipykernel)",
   "language": "python",
   "name": "python3"
  },
  "language_info": {
   "codemirror_mode": {
    "name": "ipython",
    "version": 3
   },
   "file_extension": ".py",
   "mimetype": "text/x-python",
   "name": "python",
   "nbconvert_exporter": "python",
   "pygments_lexer": "ipython3",
   "version": "3.12.4"
  }
 },
 "nbformat": 4,
 "nbformat_minor": 5
}
