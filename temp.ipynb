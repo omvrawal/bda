{
 "cells": [
  {
   "cell_type": "code",
   "execution_count": 4,
   "metadata": {},
   "outputs": [],
   "source": [
    "#from google.colab import drive\n",
    "#drive.mount('/content/drive')\n",
    "#rdd=spark.sparkContext.textFile(\"/content/drive/MyDrive/Input.txt\")\n",
    "#if colab: is use this\n"
   ]
  },
  {
   "cell_type": "code",
   "execution_count": null,
   "metadata": {},
   "outputs": [
    {
     "name": "stderr",
     "output_type": "stream",
     "text": [
      "                                                                                \r"
     ]
    },
    {
     "name": "stdout",
     "output_type": "stream",
     "text": [
      "Decade: 1910, Max Temp: 49.0\n",
      "Decade: 1920, Max Temp: 49.0\n",
      "Decade: 1930, Max Temp: 49.0\n",
      "Decade: 1940, Max Temp: 48.0\n",
      "Decade: 1950, Max Temp: 49.0\n",
      "Decade: 1960, Max Temp: 49.0\n",
      "Decade: 1970, Max Temp: 48.0\n",
      "Decade: 1980, Max Temp: 49.0\n",
      "Decade: 1990, Max Temp: 49.0\n",
      "Decade: 2000, Max Temp: 49.0\n",
      "Decade: 2010, Max Temp: 49.0\n",
      "Decade: 2020, Max Temp: 49.0\n"
     ]
    },
    {
     "name": "stderr",
     "output_type": "stream",
     "text": [
      "Bad pipe message: %s [b'0.9,image/avif,image/webp,image/apng,*/*;q=0.8,application/signed-exchange;v=b3;q=0.7\\r\\nHost: localhost:42739\\r\\nUs', b'-Agent: Mozilla/5.0 (Windows NT 10.0; Win64; x64) AppleWebKit/537.36 (KHTML, like Gecko) Chrome/135.']\n",
      "Bad pipe message: %s [b'0.0 Safari/537.36\\r\\nAccept-Encoding: gzip, defla']\n",
      "Bad pipe message: %s [b', br, zstd\\r\\nAccept-Language: en-US,en;q=0.9\\r\\nCache-Control: max-age=0\\r\\nReferer: https://github.com/\\r\\nX-Request-ID: ', b'd8de3958a39eba3b136aac68ca4758\\r\\nX-Real-IP: 59.152.120', b'38\\r\\nX-Forwarded-Port: 443\\r\\nX-Forwarded-Scheme', b'https\\r\\nX-Original-URI: /\\r\\nX-Scheme: https\\r\\nsec-ch-ua: \"Go']\n",
      "Bad pipe message: %s [b'le Chrome\";v=\"135\", \"Not-A.Brand\";v=\"8\", \"Chromium\";v=\"135\"\\r\\nsec-ch-ua-mobile: ?0\\r\\nsec-ch-ua-platform: \"Window', b'\\r\\nsec-fetch-site: cross-site\\r\\nsec-fetch-mode: navigate\\r\\nsec-fetch-user: ?1\\r\\nsec-fetch-dest: document\\r\\npriority: u=']\n",
      "Bad pipe message: %s [b' i\\r\\nX-Original-Proto: https\\r\\nX-Forwarded-Proto:']\n",
      "Bad pipe message: %s [b'ttps\\r\\nX-Forwarded-Host: laughin']\n"
     ]
    }
   ],
   "source": [
    "from pyspark.sql import SparkSession\n",
    "spark=SparkSession.builder.appName(\"temp-decade\").getOrCreate()\n",
    "rdd=spark.sparkContext.textFile(\"Temperature (1).txt\")\n",
    "def extract_line(line):\n",
    "    parts=line.split(\" \")\n",
    "    year=int(parts[0])\n",
    "    temp=float(parts[1])\n",
    "    decade=((year//10)*10)+10\n",
    "    return (decade,temp)\n",
    "\n",
    "decate_temp = rdd.map(extract_line)\n",
    "max_temp_per_decade = decate_temp.reduceByKey(lambda x,y: max(x,y))\n",
    "min_temp_per_decade = decate_temp.reduceByKey(lambda x,y: min(x,y))\n",
    "\n",
    "for decade,max_temp in max_temp_per_decade.collect():\n",
    "    print(f\"Decade: {decade}, Max Temp: {max_temp}\")\n",
    "\n",
    "spark.stop()"
   ]
  },
  {
   "cell_type": "code",
   "execution_count": null,
   "metadata": {},
   "outputs": [],
   "source": []
  }
 ],
 "metadata": {
  "kernelspec": {
   "display_name": "Python 3",
   "language": "python",
   "name": "python3"
  },
  "language_info": {
   "codemirror_mode": {
    "name": "ipython",
    "version": 3
   },
   "file_extension": ".py",
   "mimetype": "text/x-python",
   "name": "python",
   "nbconvert_exporter": "python",
   "pygments_lexer": "ipython3",
   "version": "3.12.1"
  }
 },
 "nbformat": 4,
 "nbformat_minor": 2
}
