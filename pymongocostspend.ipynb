{
 "cells": [
  {
   "cell_type": "code",
   "execution_count": 1,
   "id": "591ac117-09aa-4580-ab7c-91dab38acd98",
   "metadata": {},
   "outputs": [
    {
     "name": "stdout",
     "output_type": "stream",
     "text": [
      "Requirement already satisfied: pymongo in c:\\users\\om\\anaconda3\\lib\\site-packages (4.11.3)Note: you may need to restart the kernel to use updated packages.\n",
      "\n",
      "Requirement already satisfied: dnspython<3.0.0,>=1.16.0 in c:\\users\\om\\anaconda3\\lib\\site-packages (from pymongo) (2.7.0)\n"
     ]
    }
   ],
   "source": [
    "pip install pymongo\n"
   ]
  },
  {
   "cell_type": "code",
   "execution_count": 3,
   "id": "441caa6f-4e71-49de-992e-377f9b89f443",
   "metadata": {},
   "outputs": [
    {
     "name": "stdout",
     "output_type": "stream",
     "text": [
      "Database and purchase data created successfully!\n",
      "All Purchase Records:\n",
      "{'_id': ObjectId('67eecde4fa67a2c5f0030da8'), 'person': 'John Doe', 'items': [{'name': 'Laptop', 'quantity': 1, 'cost': 1200}, {'name': 'Mouse', 'quantity': 1, 'cost': 50}]}\n",
      "{'_id': ObjectId('67eecde4fa67a2c5f0030da9'), 'person': 'Alice Smith', 'items': [{'name': 'Phone', 'quantity': 2, 'cost': 800}, {'name': 'Keyboard', 'quantity': 1, 'cost': 100}]}\n",
      "{'_id': ObjectId('67eecde4fa67a2c5f0030daa'), 'person': 'Bob Johnson', 'items': [{'name': 'Headphones', 'quantity': 3, 'cost': 150}]}\n",
      "\n",
      "Total Purchase Amount:\n",
      "John Doe: $1250\n",
      "Alice Smith: $1700\n",
      "Bob Johnson: $450\n"
     ]
    }
   ],
   "source": [
    "from pymongo import MongoClient\n",
    "# Connect to MongoDB server (default: localhost:27017)\n",
    "client = MongoClient(\"mongodb://localhost:27017/\")\n",
    "# Create or access the database\n",
    "db = client[\"PurchaseDatabase\"]\n",
    "# Create or access the collection\n",
    "purchase_collection = db[\"Purchases\"]\n",
    "# Sample data\n",
    "purchases = [\n",
    " {\"person\": \"John Doe\", \"items\": [\n",
    " {\"name\": \"Laptop\", \"quantity\": 1, \"cost\": 1200},\n",
    " {\"name\": \"Mouse\", \"quantity\": 1, \"cost\": 50}\n",
    " ]},\n",
    " {\"person\": \"Alice Smith\", \"items\": [\n",
    " {\"name\": \"Phone\", \"quantity\": 2, \"cost\": 800},\n",
    " {\"name\": \"Keyboard\", \"quantity\": 1, \"cost\": 100}\n",
    " ]},\n",
    " {\"person\": \"Bob Johnson\", \"items\": [\n",
    " {\"name\": \"Headphones\", \"quantity\": 3, \"cost\": 150}\n",
    " ]}\n",
    "]\n",
    "# Insert data into the collection\n",
    "purchase_collection.insert_many(purchases)\n",
    "print(\"Database and purchase data created successfully!\")\n",
    "# Display all purchase records\n",
    "results = purchase_collection.find()\n",
    "print(\"All Purchase Records:\")\n",
    "for record in results:\n",
    "    print(record)\n",
    "# Calculate total purchase amount for each person\n",
    "print(\"\\nTotal Purchase Amount:\")\n",
    "results = purchase_collection.find()\n",
    "for record in results:\n",
    "    total_amount = sum(item[\"quantity\"] * item[\"cost\"] for item in record[\"items\"])\n",
    "    print(f\"{record['person']}: ${total_amount}\")"
   ]
  },
  {
   "cell_type": "code",
   "execution_count": null,
   "id": "dae145b1-fab3-449f-9640-7d333cca4a59",
   "metadata": {},
   "outputs": [],
   "source": []
  }
 ],
 "metadata": {
  "kernelspec": {
   "display_name": "Python 3 (ipykernel)",
   "language": "python",
   "name": "python3"
  },
  "language_info": {
   "codemirror_mode": {
    "name": "ipython",
    "version": 3
   },
   "file_extension": ".py",
   "mimetype": "text/x-python",
   "name": "python",
   "nbconvert_exporter": "python",
   "pygments_lexer": "ipython3",
   "version": "3.12.4"
  }
 },
 "nbformat": 4,
 "nbformat_minor": 5
}
